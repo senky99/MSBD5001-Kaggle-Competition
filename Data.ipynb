{
 "cells": [
  {
   "cell_type": "code",
   "execution_count": 1,
   "metadata": {
    "id": "8JIJmHs1yaRf"
   },
   "outputs": [],
   "source": [
    "import pandas as pd\n",
    "import numpy as np\n",
    "import re\n",
    "from datetime import datetime"
   ]
  },
  {
   "cell_type": "code",
   "execution_count": 2,
   "metadata": {
    "colab": {
     "base_uri": "https://localhost:8080/",
     "height": 417
    },
    "executionInfo": {
     "elapsed": 4301,
     "status": "ok",
     "timestamp": 1607084465133,
     "user": {
      "displayName": "Xuxuxu Shh",
      "photoUrl": "",
      "userId": "06260925340065532759"
     },
     "user_tz": -480
    },
    "id": "LdabBq2syp23",
    "outputId": "e0d36268-db4b-401a-f100-d6b51b66093b"
   },
   "outputs": [
    {
     "data": {
      "text/html": [
       "<div>\n",
       "<style scoped>\n",
       "    .dataframe tbody tr th:only-of-type {\n",
       "        vertical-align: middle;\n",
       "    }\n",
       "\n",
       "    .dataframe tbody tr th {\n",
       "        vertical-align: top;\n",
       "    }\n",
       "\n",
       "    .dataframe thead th {\n",
       "        text-align: right;\n",
       "    }\n",
       "</style>\n",
       "<table border=\"1\" class=\"dataframe\">\n",
       "  <thead>\n",
       "    <tr style=\"text-align: right;\">\n",
       "      <th></th>\n",
       "      <th>id</th>\n",
       "      <th>date</th>\n",
       "      <th>speed</th>\n",
       "    </tr>\n",
       "  </thead>\n",
       "  <tbody>\n",
       "    <tr>\n",
       "      <th>0</th>\n",
       "      <td>0</td>\n",
       "      <td>1/1/2017 0:00</td>\n",
       "      <td>43.002930</td>\n",
       "    </tr>\n",
       "    <tr>\n",
       "      <th>1</th>\n",
       "      <td>1</td>\n",
       "      <td>1/1/2017 1:00</td>\n",
       "      <td>46.118696</td>\n",
       "    </tr>\n",
       "    <tr>\n",
       "      <th>2</th>\n",
       "      <td>2</td>\n",
       "      <td>1/1/2017 2:00</td>\n",
       "      <td>44.294158</td>\n",
       "    </tr>\n",
       "    <tr>\n",
       "      <th>3</th>\n",
       "      <td>3</td>\n",
       "      <td>1/1/2017 3:00</td>\n",
       "      <td>41.067468</td>\n",
       "    </tr>\n",
       "    <tr>\n",
       "      <th>4</th>\n",
       "      <td>4</td>\n",
       "      <td>1/1/2017 4:00</td>\n",
       "      <td>46.448653</td>\n",
       "    </tr>\n",
       "    <tr>\n",
       "      <th>...</th>\n",
       "      <td>...</td>\n",
       "      <td>...</td>\n",
       "      <td>...</td>\n",
       "    </tr>\n",
       "    <tr>\n",
       "      <th>14001</th>\n",
       "      <td>14001</td>\n",
       "      <td>31/12/2018 12:00</td>\n",
       "      <td>19.865269</td>\n",
       "    </tr>\n",
       "    <tr>\n",
       "      <th>14002</th>\n",
       "      <td>14002</td>\n",
       "      <td>31/12/2018 15:00</td>\n",
       "      <td>17.820375</td>\n",
       "    </tr>\n",
       "    <tr>\n",
       "      <th>14003</th>\n",
       "      <td>14003</td>\n",
       "      <td>31/12/2018 16:00</td>\n",
       "      <td>12.501851</td>\n",
       "    </tr>\n",
       "    <tr>\n",
       "      <th>14004</th>\n",
       "      <td>14004</td>\n",
       "      <td>31/12/2018 18:00</td>\n",
       "      <td>15.979319</td>\n",
       "    </tr>\n",
       "    <tr>\n",
       "      <th>14005</th>\n",
       "      <td>14005</td>\n",
       "      <td>31/12/2018 20:00</td>\n",
       "      <td>40.594183</td>\n",
       "    </tr>\n",
       "  </tbody>\n",
       "</table>\n",
       "<p>14006 rows × 3 columns</p>\n",
       "</div>"
      ],
      "text/plain": [
       "          id              date      speed\n",
       "0          0     1/1/2017 0:00  43.002930\n",
       "1          1     1/1/2017 1:00  46.118696\n",
       "2          2     1/1/2017 2:00  44.294158\n",
       "3          3     1/1/2017 3:00  41.067468\n",
       "4          4     1/1/2017 4:00  46.448653\n",
       "...      ...               ...        ...\n",
       "14001  14001  31/12/2018 12:00  19.865269\n",
       "14002  14002  31/12/2018 15:00  17.820375\n",
       "14003  14003  31/12/2018 16:00  12.501851\n",
       "14004  14004  31/12/2018 18:00  15.979319\n",
       "14005  14005  31/12/2018 20:00  40.594183\n",
       "\n",
       "[14006 rows x 3 columns]"
      ]
     },
     "execution_count": 2,
     "metadata": {},
     "output_type": "execute_result"
    }
   ],
   "source": [
    "train_data = pd.read_csv('train.csv')\n",
    "test_data = pd.read_csv('test.csv')\n",
    "sub_data = pd.read_csv('sampleSubmission.csv')\n",
    "train_data"
   ]
  },
  {
   "cell_type": "code",
   "execution_count": 3,
   "metadata": {
    "colab": {
     "base_uri": "https://localhost:8080/"
    },
    "executionInfo": {
     "elapsed": 24926,
     "status": "ok",
     "timestamp": 1607092502323,
     "user": {
      "displayName": "Xuxuxu Shh",
      "photoUrl": "",
      "userId": "06260925340065532759"
     },
     "user_tz": -480
    },
    "id": "MRHBb1mEKBJT",
    "outputId": "20bd768d-9957-408b-b9dd-0d6b07a50609"
   },
   "outputs": [
    {
     "name": "stdout",
     "output_type": "stream",
     "text": [
      "\n",
      "\n",
      "Retrieving weather data for hongkong\n",
      "\n",
      "\n",
      "Currently retrieving data for hongkong: from 2017-01-01 to 2017-01-31\n",
      "Time elapsed (hh:mm:ss.ms) 0:00:05.143720\n",
      "Currently retrieving data for hongkong: from 2017-02-01 to 2017-02-28\n",
      "Time elapsed (hh:mm:ss.ms) 0:00:09.428544\n",
      "Currently retrieving data for hongkong: from 2017-03-01 to 2017-03-31\n",
      "Time elapsed (hh:mm:ss.ms) 0:00:12.790079\n",
      "Currently retrieving data for hongkong: from 2017-04-01 to 2017-04-30\n",
      "Time elapsed (hh:mm:ss.ms) 0:00:17.804990\n",
      "Currently retrieving data for hongkong: from 2017-05-01 to 2017-05-31\n",
      "Time elapsed (hh:mm:ss.ms) 0:00:23.199579\n",
      "Currently retrieving data for hongkong: from 2017-06-01 to 2017-06-30\n",
      "Time elapsed (hh:mm:ss.ms) 0:00:27.215686\n",
      "Currently retrieving data for hongkong: from 2017-07-01 to 2017-07-31\n",
      "Time elapsed (hh:mm:ss.ms) 0:00:30.947730\n",
      "Currently retrieving data for hongkong: from 2017-08-01 to 2017-08-31\n",
      "Time elapsed (hh:mm:ss.ms) 0:00:36.103060\n",
      "Currently retrieving data for hongkong: from 2017-09-01 to 2017-09-30\n"
     ]
    },
    {
     "ename": "timeout",
     "evalue": "timed out",
     "output_type": "error",
     "traceback": [
      "\u001b[1;31m---------------------------------------------------------------------------\u001b[0m",
      "\u001b[1;31mtimeout\u001b[0m                                   Traceback (most recent call last)",
      "\u001b[1;32m<ipython-input-3-6877afcfb111>\u001b[0m in \u001b[0;36m<module>\u001b[1;34m\u001b[0m\n\u001b[0;32m      9\u001b[0m \u001b[0mlocation_list\u001b[0m \u001b[1;33m=\u001b[0m \u001b[1;33m[\u001b[0m\u001b[1;34m'hongkong'\u001b[0m\u001b[1;33m]\u001b[0m\u001b[1;33m\u001b[0m\u001b[1;33m\u001b[0m\u001b[0m\n\u001b[0;32m     10\u001b[0m \u001b[1;33m\u001b[0m\u001b[0m\n\u001b[1;32m---> 11\u001b[1;33m \u001b[0mhist_weather_data\u001b[0m \u001b[1;33m=\u001b[0m \u001b[0mretrieve_hist_data\u001b[0m\u001b[1;33m(\u001b[0m\u001b[0mapi_key\u001b[0m\u001b[1;33m,\u001b[0m \u001b[0mlocation_list\u001b[0m\u001b[1;33m,\u001b[0m \u001b[0mstart_date\u001b[0m\u001b[1;33m,\u001b[0m \u001b[0mend_date\u001b[0m\u001b[1;33m,\u001b[0m \u001b[0mfrequency\u001b[0m \u001b[1;33m=\u001b[0m \u001b[1;36m24\u001b[0m\u001b[1;33m,\u001b[0m \u001b[0mexport_csv\u001b[0m \u001b[1;33m=\u001b[0m \u001b[1;32mTrue\u001b[0m\u001b[1;33m,\u001b[0m \u001b[0mstore_df\u001b[0m \u001b[1;33m=\u001b[0m \u001b[1;32mTrue\u001b[0m\u001b[1;33m)\u001b[0m\u001b[1;33m\u001b[0m\u001b[1;33m\u001b[0m\u001b[0m\n\u001b[0m",
      "\u001b[1;32mD:\\Ana\\lib\\site-packages\\wwo_hist\\__init__.py\u001b[0m in \u001b[0;36mretrieve_hist_data\u001b[1;34m(api_key, location_list, start_date, end_date, frequency, location_label, export_csv, store_df, response_cache_path)\u001b[0m\n\u001b[0;32m    117\u001b[0m     \u001b[1;32mfor\u001b[0m \u001b[0mlocation\u001b[0m \u001b[1;32min\u001b[0m \u001b[0mlocation_list\u001b[0m\u001b[1;33m:\u001b[0m\u001b[1;33m\u001b[0m\u001b[1;33m\u001b[0m\u001b[0m\n\u001b[0;32m    118\u001b[0m         \u001b[0mprint\u001b[0m\u001b[1;33m(\u001b[0m\u001b[1;34m'\\n\\nRetrieving weather data for '\u001b[0m \u001b[1;33m+\u001b[0m \u001b[0mlocation\u001b[0m \u001b[1;33m+\u001b[0m \u001b[1;34m'\\n\\n'\u001b[0m\u001b[1;33m)\u001b[0m\u001b[1;33m\u001b[0m\u001b[1;33m\u001b[0m\u001b[0m\n\u001b[1;32m--> 119\u001b[1;33m         \u001b[0mdf_this_city\u001b[0m \u001b[1;33m=\u001b[0m \u001b[0mretrieve_this_location\u001b[0m\u001b[1;33m(\u001b[0m\u001b[0mapi_key\u001b[0m\u001b[1;33m,\u001b[0m \u001b[0mlocation\u001b[0m\u001b[1;33m,\u001b[0m \u001b[0mstart_date\u001b[0m\u001b[1;33m,\u001b[0m \u001b[0mend_date\u001b[0m\u001b[1;33m,\u001b[0m \u001b[0mfrequency\u001b[0m\u001b[1;33m,\u001b[0m \u001b[0mresponse_cache_path\u001b[0m\u001b[1;33m)\u001b[0m\u001b[1;33m\u001b[0m\u001b[1;33m\u001b[0m\u001b[0m\n\u001b[0m\u001b[0;32m    120\u001b[0m \u001b[1;33m\u001b[0m\u001b[0m\n\u001b[0;32m    121\u001b[0m         \u001b[1;32mif\u001b[0m \u001b[1;33m(\u001b[0m\u001b[0mlocation_label\u001b[0m \u001b[1;33m==\u001b[0m \u001b[1;32mTrue\u001b[0m\u001b[1;33m)\u001b[0m\u001b[1;33m:\u001b[0m\u001b[1;33m\u001b[0m\u001b[1;33m\u001b[0m\u001b[0m\n",
      "\u001b[1;32mD:\\Ana\\lib\\site-packages\\wwo_hist\\__init__.py\u001b[0m in \u001b[0;36mretrieve_this_location\u001b[1;34m(api_key, location, start_date, end_date, frequency, response_cache_path)\u001b[0m\n\u001b[0;32m     94\u001b[0m                 frequency)\n\u001b[0;32m     95\u001b[0m             \u001b[0mjson_page\u001b[0m \u001b[1;33m=\u001b[0m \u001b[0murllib\u001b[0m\u001b[1;33m.\u001b[0m\u001b[0mrequest\u001b[0m\u001b[1;33m.\u001b[0m\u001b[0murlopen\u001b[0m\u001b[1;33m(\u001b[0m\u001b[0murl_page\u001b[0m\u001b[1;33m,\u001b[0m \u001b[0mtimeout\u001b[0m\u001b[1;33m=\u001b[0m\u001b[1;36m10\u001b[0m\u001b[1;33m)\u001b[0m\u001b[1;33m\u001b[0m\u001b[1;33m\u001b[0m\u001b[0m\n\u001b[1;32m---> 96\u001b[1;33m             \u001b[0mjson_data\u001b[0m \u001b[1;33m=\u001b[0m \u001b[0mjson\u001b[0m\u001b[1;33m.\u001b[0m\u001b[0mloads\u001b[0m\u001b[1;33m(\u001b[0m\u001b[0mjson_page\u001b[0m\u001b[1;33m.\u001b[0m\u001b[0mread\u001b[0m\u001b[1;33m(\u001b[0m\u001b[1;33m)\u001b[0m\u001b[1;33m.\u001b[0m\u001b[0mdecode\u001b[0m\u001b[1;33m(\u001b[0m\u001b[1;33m)\u001b[0m\u001b[1;33m)\u001b[0m\u001b[1;33m\u001b[0m\u001b[1;33m\u001b[0m\u001b[0m\n\u001b[0m\u001b[0;32m     97\u001b[0m \u001b[1;33m\u001b[0m\u001b[0m\n\u001b[0;32m     98\u001b[0m         \u001b[1;32mif\u001b[0m \u001b[0mresponse_cache_path\u001b[0m\u001b[1;33m:\u001b[0m\u001b[1;33m\u001b[0m\u001b[1;33m\u001b[0m\u001b[0m\n",
      "\u001b[1;32mD:\\Ana\\lib\\http\\client.py\u001b[0m in \u001b[0;36mread\u001b[1;34m(self, amt)\u001b[0m\n\u001b[0;32m    462\u001b[0m \u001b[1;33m\u001b[0m\u001b[0m\n\u001b[0;32m    463\u001b[0m             \u001b[1;32mif\u001b[0m \u001b[0mself\u001b[0m\u001b[1;33m.\u001b[0m\u001b[0mchunked\u001b[0m\u001b[1;33m:\u001b[0m\u001b[1;33m\u001b[0m\u001b[1;33m\u001b[0m\u001b[0m\n\u001b[1;32m--> 464\u001b[1;33m                 \u001b[1;32mreturn\u001b[0m \u001b[0mself\u001b[0m\u001b[1;33m.\u001b[0m\u001b[0m_readall_chunked\u001b[0m\u001b[1;33m(\u001b[0m\u001b[1;33m)\u001b[0m\u001b[1;33m\u001b[0m\u001b[1;33m\u001b[0m\u001b[0m\n\u001b[0m\u001b[0;32m    465\u001b[0m \u001b[1;33m\u001b[0m\u001b[0m\n\u001b[0;32m    466\u001b[0m             \u001b[1;32mif\u001b[0m \u001b[0mself\u001b[0m\u001b[1;33m.\u001b[0m\u001b[0mlength\u001b[0m \u001b[1;32mis\u001b[0m \u001b[1;32mNone\u001b[0m\u001b[1;33m:\u001b[0m\u001b[1;33m\u001b[0m\u001b[1;33m\u001b[0m\u001b[0m\n",
      "\u001b[1;32mD:\\Ana\\lib\\http\\client.py\u001b[0m in \u001b[0;36m_readall_chunked\u001b[1;34m(self)\u001b[0m\n\u001b[0;32m    572\u001b[0m                 \u001b[1;32mif\u001b[0m \u001b[0mchunk_left\u001b[0m \u001b[1;32mis\u001b[0m \u001b[1;32mNone\u001b[0m\u001b[1;33m:\u001b[0m\u001b[1;33m\u001b[0m\u001b[1;33m\u001b[0m\u001b[0m\n\u001b[0;32m    573\u001b[0m                     \u001b[1;32mbreak\u001b[0m\u001b[1;33m\u001b[0m\u001b[1;33m\u001b[0m\u001b[0m\n\u001b[1;32m--> 574\u001b[1;33m                 \u001b[0mvalue\u001b[0m\u001b[1;33m.\u001b[0m\u001b[0mappend\u001b[0m\u001b[1;33m(\u001b[0m\u001b[0mself\u001b[0m\u001b[1;33m.\u001b[0m\u001b[0m_safe_read\u001b[0m\u001b[1;33m(\u001b[0m\u001b[0mchunk_left\u001b[0m\u001b[1;33m)\u001b[0m\u001b[1;33m)\u001b[0m\u001b[1;33m\u001b[0m\u001b[1;33m\u001b[0m\u001b[0m\n\u001b[0m\u001b[0;32m    575\u001b[0m                 \u001b[0mself\u001b[0m\u001b[1;33m.\u001b[0m\u001b[0mchunk_left\u001b[0m \u001b[1;33m=\u001b[0m \u001b[1;36m0\u001b[0m\u001b[1;33m\u001b[0m\u001b[1;33m\u001b[0m\u001b[0m\n\u001b[0;32m    576\u001b[0m             \u001b[1;32mreturn\u001b[0m \u001b[1;34mb''\u001b[0m\u001b[1;33m.\u001b[0m\u001b[0mjoin\u001b[0m\u001b[1;33m(\u001b[0m\u001b[0mvalue\u001b[0m\u001b[1;33m)\u001b[0m\u001b[1;33m\u001b[0m\u001b[1;33m\u001b[0m\u001b[0m\n",
      "\u001b[1;32mD:\\Ana\\lib\\http\\client.py\u001b[0m in \u001b[0;36m_safe_read\u001b[1;34m(self, amt)\u001b[0m\n\u001b[0;32m    618\u001b[0m         \u001b[0ms\u001b[0m \u001b[1;33m=\u001b[0m \u001b[1;33m[\u001b[0m\u001b[1;33m]\u001b[0m\u001b[1;33m\u001b[0m\u001b[1;33m\u001b[0m\u001b[0m\n\u001b[0;32m    619\u001b[0m         \u001b[1;32mwhile\u001b[0m \u001b[0mamt\u001b[0m \u001b[1;33m>\u001b[0m \u001b[1;36m0\u001b[0m\u001b[1;33m:\u001b[0m\u001b[1;33m\u001b[0m\u001b[1;33m\u001b[0m\u001b[0m\n\u001b[1;32m--> 620\u001b[1;33m             \u001b[0mchunk\u001b[0m \u001b[1;33m=\u001b[0m \u001b[0mself\u001b[0m\u001b[1;33m.\u001b[0m\u001b[0mfp\u001b[0m\u001b[1;33m.\u001b[0m\u001b[0mread\u001b[0m\u001b[1;33m(\u001b[0m\u001b[0mmin\u001b[0m\u001b[1;33m(\u001b[0m\u001b[0mamt\u001b[0m\u001b[1;33m,\u001b[0m \u001b[0mMAXAMOUNT\u001b[0m\u001b[1;33m)\u001b[0m\u001b[1;33m)\u001b[0m\u001b[1;33m\u001b[0m\u001b[1;33m\u001b[0m\u001b[0m\n\u001b[0m\u001b[0;32m    621\u001b[0m             \u001b[1;32mif\u001b[0m \u001b[1;32mnot\u001b[0m \u001b[0mchunk\u001b[0m\u001b[1;33m:\u001b[0m\u001b[1;33m\u001b[0m\u001b[1;33m\u001b[0m\u001b[0m\n\u001b[0;32m    622\u001b[0m                 \u001b[1;32mraise\u001b[0m \u001b[0mIncompleteRead\u001b[0m\u001b[1;33m(\u001b[0m\u001b[1;34mb''\u001b[0m\u001b[1;33m.\u001b[0m\u001b[0mjoin\u001b[0m\u001b[1;33m(\u001b[0m\u001b[0ms\u001b[0m\u001b[1;33m)\u001b[0m\u001b[1;33m,\u001b[0m \u001b[0mamt\u001b[0m\u001b[1;33m)\u001b[0m\u001b[1;33m\u001b[0m\u001b[1;33m\u001b[0m\u001b[0m\n",
      "\u001b[1;32mD:\\Ana\\lib\\socket.py\u001b[0m in \u001b[0;36mreadinto\u001b[1;34m(self, b)\u001b[0m\n\u001b[0;32m    587\u001b[0m         \u001b[1;32mwhile\u001b[0m \u001b[1;32mTrue\u001b[0m\u001b[1;33m:\u001b[0m\u001b[1;33m\u001b[0m\u001b[1;33m\u001b[0m\u001b[0m\n\u001b[0;32m    588\u001b[0m             \u001b[1;32mtry\u001b[0m\u001b[1;33m:\u001b[0m\u001b[1;33m\u001b[0m\u001b[1;33m\u001b[0m\u001b[0m\n\u001b[1;32m--> 589\u001b[1;33m                 \u001b[1;32mreturn\u001b[0m \u001b[0mself\u001b[0m\u001b[1;33m.\u001b[0m\u001b[0m_sock\u001b[0m\u001b[1;33m.\u001b[0m\u001b[0mrecv_into\u001b[0m\u001b[1;33m(\u001b[0m\u001b[0mb\u001b[0m\u001b[1;33m)\u001b[0m\u001b[1;33m\u001b[0m\u001b[1;33m\u001b[0m\u001b[0m\n\u001b[0m\u001b[0;32m    590\u001b[0m             \u001b[1;32mexcept\u001b[0m \u001b[0mtimeout\u001b[0m\u001b[1;33m:\u001b[0m\u001b[1;33m\u001b[0m\u001b[1;33m\u001b[0m\u001b[0m\n\u001b[0;32m    591\u001b[0m                 \u001b[0mself\u001b[0m\u001b[1;33m.\u001b[0m\u001b[0m_timeout_occurred\u001b[0m \u001b[1;33m=\u001b[0m \u001b[1;32mTrue\u001b[0m\u001b[1;33m\u001b[0m\u001b[1;33m\u001b[0m\u001b[0m\n",
      "\u001b[1;31mtimeout\u001b[0m: timed out"
     ]
    }
   ],
   "source": [
    "from wwo_hist import retrieve_hist_data\n",
    "import urllib.request\n",
    "\n",
    "\n",
    "frequency = 24\n",
    "start_date = '01-Jan-2017'\n",
    "end_date = '31-DEC-2018'\n",
    "api_key = '8b9dd8eb5f174b05b0a143348200412'\n",
    "location_list = ['hongkong']\n",
    "\n",
    "hist_weather_data = retrieve_hist_data(api_key, location_list, start_date, end_date, frequency = 24, export_csv = True, store_df = True)"
   ]
  },
  {
   "cell_type": "code",
   "execution_count": null,
   "metadata": {
    "colab": {
     "base_uri": "https://localhost:8080/",
     "height": 448
    },
    "executionInfo": {
     "elapsed": 1033,
     "status": "ok",
     "timestamp": 1607092759101,
     "user": {
      "displayName": "Xuxuxu Shh",
      "photoUrl": "",
      "userId": "06260925340065532759"
     },
     "user_tz": -480
    },
    "id": "uJ8L1cOaLaq1",
    "outputId": "317421a1-25c7-402d-a68b-ea956a0b0073"
   },
   "outputs": [],
   "source": [
    "dateparse = lambda dates: datetime.strptime(dates, '%Y-%m-%d')\n",
    "\n",
    "df_weather = pd.read_csv('hongkong.csv', parse_dates=['date_time'],\n",
    "                         index_col='date_time', date_parser=dateparse)\n",
    "weather_features = df_weather[['tempC','winddirDegree',\n",
    "                               'windspeedKmph','cloudcover', \n",
    "                               'WindChillC'，'humidity','visibility']]"
   ]
  },
  {
   "cell_type": "code",
   "execution_count": null,
   "metadata": {
    "colab": {
     "base_uri": "https://localhost:8080/"
    },
    "executionInfo": {
     "elapsed": 760,
     "status": "ok",
     "timestamp": 1607084468609,
     "user": {
      "displayName": "Xuxuxu Shh",
      "photoUrl": "",
      "userId": "06260925340065532759"
     },
     "user_tz": -480
    },
    "id": "R9gQMcOcxDbh",
    "outputId": "40e8c215-58f2-40d9-a0bc-d63c8b72cf6b"
   },
   "outputs": [],
   "source": [
    "def get_holiday(s):\n",
    "  s=str(s)\n",
    "  list = re.split(' ', s)\n",
    "  days = str(datetime.strptime(list[0],\"%d/%m/%Y\"))\n",
    "  day = re.split(' ', days)[0]\n",
    "  return day\n",
    "\n",
    "train_data[\"hol\"] = train_data[\"date\"].apply(lambda x: get_holiday(x))\n",
    "train_data[\"hol\"]\n",
    "\n",
    "\n",
    "def get_hour(s):\n",
    "  s=str(s)\n",
    "  list = re.split(' |:',s)\n",
    "  return list[1]\n",
    "\n",
    "def get_month(s):\n",
    "  s=str(s)\n",
    "  list = re.split('/',s)\n",
    "  return list[1]\n",
    "\n",
    "def get_year(s):\n",
    "  s=str(s)\n",
    "  list = re.split('/| ',s)\n",
    "  return list[2]\n",
    "\n",
    "def get_day(s):\n",
    "  s=str(s)\n",
    "  list = re.split('/| ',s)\n",
    "  return list[0]\n",
    "\n",
    "def get_week(s):\n",
    "  s=str(s)\n",
    "  list = re.split(' ', s)\n",
    "  week = datetime.strptime(list[0],\"%d/%m/%Y\").weekday()\n",
    "  return str(week)"
   ]
  },
  {
   "cell_type": "code",
   "execution_count": null,
   "metadata": {
    "id": "xlQsxIc2WK98"
   },
   "outputs": [],
   "source": [
    "holidays = ['2017-01-02','2017-01-28','2017-01-30','2017-01-31',\n",
    "            '2017-04-04','2017-04-14','2017-04-15','2017-04-17',\n",
    "            '2017-05-01','2017-05-03','2017-05-30','2017-07-01',\n",
    "            '2017-10-02','2017-10-05','2017-10-28','2017-12-25',\n",
    "            '2017-12-26','2018-01-01','2018-02-16','2018-02-17',\n",
    "            '2018-02-18','2018-03-30','2018-03-31','2018-04-02',\n",
    "            '2018-04-05','2018-05-01','2018-05-22','2018-06-18','2018-07-02',\n",
    "            '2018-09-25','2018-10-01','2018-10-17','2018-12-25','2018-12-26']\n",
    "\n",
    "def if_holiday(s):\n",
    "  s=str(s)\n",
    "  list = re.split(' ', s)\n",
    "  days = str(datetime.strptime(list[0],\"%d/%m/%Y\"))\n",
    "  day = re.split(' ', days)[0]\n",
    "  if day in holidays:\n",
    "    return 1\n",
    "  return 0"
   ]
  },
  {
   "cell_type": "code",
   "execution_count": null,
   "metadata": {
    "colab": {
     "base_uri": "https://localhost:8080/",
     "height": 417
    },
    "executionInfo": {
     "elapsed": 1105,
     "status": "ok",
     "timestamp": 1607084478802,
     "user": {
      "displayName": "Xuxuxu Shh",
      "photoUrl": "",
      "userId": "06260925340065532759"
     },
     "user_tz": -480
    },
    "id": "l4BLpjZwYznh",
    "outputId": "0c72b11c-b407-476b-ea0e-5b9cb8ea19d3"
   },
   "outputs": [],
   "source": [
    "train_data[\"holiday\"] = train_data[\"date\"].apply(lambda x: get_holiday(x))\n",
    "train_data[\"hour\"] = train_data[\"date\"].apply(lambda x : get_hour(x))\n",
    "train_data[\"year\"] = train_data[\"date\"].apply(lambda x : get_year(x))\n",
    "train_data[\"weekday\"] = train_data[\"date\"].apply(lambda x: get_week(x))\n",
    "train_data[\"month\"] = train_data[\"date\"].apply(lambda x : get_month(x))\n",
    "train_data[\"day\"] = train_data[\"date\"].apply(lambda x : get_day(x))"
   ]
  },
  {
   "cell_type": "code",
   "execution_count": null,
   "metadata": {
    "colab": {
     "base_uri": "https://localhost:8080/",
     "height": 608
    },
    "executionInfo": {
     "elapsed": 2572,
     "status": "ok",
     "timestamp": 1607093058257,
     "user": {
      "displayName": "Xuxuxu Shh",
      "photoUrl": "",
      "userId": "06260925340065532759"
     },
     "user_tz": -480
    },
    "id": "gR1RjWnuMgub",
    "outputId": "eeb006da-2a77-45f9-95db-619afd5fbc95"
   },
   "outputs": [],
   "source": [
    "C = []\n",
    "vis = []\n",
    "wind_dir = []\n",
    "wind_speed = []\n",
    "hum = []\n",
    "cloud = []\n",
    "Wind = []\n",
    "\n",
    "for i in train_data['date']:\n",
    "# transform the type from date to datetime\n",
    "  string_date = str(i)\n",
    "  string_date=re.split(\" \",string_date)[0]\n",
    "  date = datetime.strptime(string_date, '%d/%m/%Y')\n",
    "  C.append(weather_features['C'][date])\n",
    "  vis.append(weather_features['vis'][date])\n",
    "  wind_dir.append(weather_features['wind_dir'][date])\n",
    "  wind_speed.append(weather_features['wind_speed'][date])\n",
    "  hum.append(weather_features['hum'][date])\n",
    "  cloud.append(weather_features['cloud'][date])\n",
    "  Wind.append(weather_features['Wind'][date])\n",
    "\n",
    "train_data['vis'] = vis\n",
    "train_data['wind_dir'] = wind_dir\n",
    "train_data['Wind'] = Wind\n",
    "train_data['hum'] = hum\n",
    "train_data['cloud'] = cloud   \n",
    "train_data['wind_speed'] = wind_speed\n",
    "train_data['C'] = C\n",
    "\n",
    "train_data"
   ]
  },
  {
   "cell_type": "code",
   "execution_count": null,
   "metadata": {
    "colab": {
     "base_uri": "https://localhost:8080/",
     "height": 437
    },
    "executionInfo": {
     "elapsed": 771,
     "status": "ok",
     "timestamp": 1607093163332,
     "user": {
      "displayName": "Xuxuxu Shh",
      "photoUrl": "",
      "userId": "06260925340065532759"
     },
     "user_tz": -480
    },
    "id": "R7402AtMlmDp",
    "outputId": "70d01b7d-dd13-45c1-a402-6d30a56930c1"
   },
   "outputs": [],
   "source": [
    "train_clean = train_data.drop([\"date\"], axis=1)\n",
    "train_clean"
   ]
  },
  {
   "cell_type": "code",
   "execution_count": null,
   "metadata": {
    "id": "Qo8hlA6Xbq6X"
   },
   "outputs": [],
   "source": [
    "train_clean.to_csv(\"train_Aftercleane_data.csv\", index=False)"
   ]
  },
  {
   "cell_type": "code",
   "execution_count": null,
   "metadata": {
    "colab": {
     "base_uri": "https://localhost:8080/",
     "height": 417
    },
    "executionInfo": {
     "elapsed": 787,
     "status": "ok",
     "timestamp": 1607084675585,
     "user": {
      "displayName": "Xuxuxu Shh",
      "photoUrl": "",
      "userId": "06260925340065532759"
     },
     "user_tz": -480
    },
    "id": "Q3tVg91tfPZj",
    "outputId": "690d9ca9-9753-4ee0-882e-96f3a98280fd"
   },
   "outputs": [],
   "source": [
    "test_data[\"hour\"] = test_data[\"date\"].apply(lambda x : get_hour(x))\n",
    "test_data[\"weekday\"] = test_data[\"date\"].apply(lambda x: get_week(x))\n",
    "test_data[\"holiday\"] = test_data[\"date\"].apply(lambda x: get_holiday(x))\n",
    "test_data[\"month\"] = test_data[\"date\"].apply(lambda x : get_month(x))\n",
    "test_data[\"day\"] = test_data[\"date\"].apply(lambda x : get_day(x))\n",
    "test_data[\"year\"] = test_data[\"date\"].apply(lambda x : get_year(x))\n",
    "\n",
    "test_data"
   ]
  },
  {
   "cell_type": "code",
   "execution_count": null,
   "metadata": {
    "colab": {
     "base_uri": "https://localhost:8080/",
     "height": 608
    },
    "executionInfo": {
     "elapsed": 1439,
     "status": "ok",
     "timestamp": 1607093236980,
     "user": {
      "displayName": "Xuxuxu Shh",
      "photoUrl": "",
      "userId": "06260925340065532759"
     },
     "user_tz": -480
    },
    "id": "etz4fBvmOEeE",
    "outputId": "2e60860b-e77e-4552-decd-c13fe415e279"
   },
   "outputs": [],
   "source": [
    "C = []\n",
    "vis = []\n",
    "wind_dir = []\n",
    "wind_speed = []\n",
    "hum = []\n",
    "cloud = []\n",
    "Wind = []\n",
    "\n",
    "for i in tset_data['date']:\n",
    "# transform the type from date to datetime\n",
    "  string_date = str(i)\n",
    "  string_date=re.split(\" \",string_date)[0]\n",
    "  date = datetime.strptime(string_date, '%d/%m/%Y')\n",
    "  C.append(weather_features['C'][date])\n",
    "  vis.append(weather_features['vis'][date])\n",
    "  wind_dir.append(weather_features['wind_dir'][date])\n",
    "  wind_speed.append(weather_features['wind_speed'][date])\n",
    "  hum.append(weather_features['hum'][date])\n",
    "  cloud.append(weather_features['cloud'][date])\n",
    "  Wind.append(weather_features['Wind'][date])\n",
    "\n",
    "test_data['vis'] = vis\n",
    "test_data['wind_dir'] = wind_dir\n",
    "test_data['Wind'] = Wind\n",
    "test_data['hum'] = hum\n",
    "test_data['cloud'] = cloud   \n",
    "test_data['wind_speed'] = wind_speed\n",
    "test_data['C'] = C\n",
    "\n",
    "train_data"
   ]
  },
  {
   "cell_type": "code",
   "execution_count": null,
   "metadata": {
    "colab": {
     "base_uri": "https://localhost:8080/",
     "height": 437
    },
    "executionInfo": {
     "elapsed": 841,
     "status": "ok",
     "timestamp": 1607093262428,
     "user": {
      "displayName": "Xuxuxu Shh",
      "photoUrl": "",
      "userId": "06260925340065532759"
     },
     "user_tz": -480
    },
    "id": "iUyFmKiyUWiB",
    "outputId": "a68b40d8-45cf-4d88-b038-539e7ab8942f"
   },
   "outputs": [],
   "source": [
    "test_data[\"speed\"] = 0\n",
    "test_clean = test_data.drop([\"date\"], axis=1)\n",
    "\n",
    "test_clean"
   ]
  },
  {
   "cell_type": "code",
   "execution_count": null,
   "metadata": {
    "id": "-F2mUSZSVB-Q"
   },
   "outputs": [],
   "source": [
    "test_clean.to_csv(\"test_Afterclean_data.csv\", index=False)"
   ]
  },
  {
   "cell_type": "code",
   "execution_count": null,
   "metadata": {},
   "outputs": [],
   "source": []
  }
 ],
 "metadata": {
  "colab": {
   "authorship_tag": "ABX9TyPjKsEL4FxV+J3NSPNuiIJe",
   "mount_file_id": "1kwhFAvKCvDdZtSt1F_Hys_SwaYWHsK0n",
   "name": "traindata_clean.ipynb",
   "provenance": []
  },
  "kernelspec": {
   "display_name": "Python 3",
   "language": "python",
   "name": "python3"
  },
  "language_info": {
   "codemirror_mode": {
    "name": "ipython",
    "version": 3
   },
   "file_extension": ".py",
   "mimetype": "text/x-python",
   "name": "python",
   "nbconvert_exporter": "python",
   "pygments_lexer": "ipython3",
   "version": "3.7.6"
  }
 },
 "nbformat": 4,
 "nbformat_minor": 1
}
